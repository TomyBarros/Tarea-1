{
 "cells": [
  {
   "cell_type": "markdown",
   "metadata": {},
   "source": [
    "# Tarea 1 - EL4203-1\n",
    "### Tomas Barros \n",
    "### 20.816.832-0"
   ]
  },
  {
   "cell_type": "markdown",
   "metadata": {},
   "source": [
    "## Preguntas Teóricas\n",
    "\n",
    "a) ¿Qué es un paradigma en la programación?\n",
    "\n",
    "Un paradigma ne la programación es la forma en la que modelamos el problema que queremos resolver. \n",
    "Existen 2 tipos de paradigmas, imperativo y declarativo.\n",
    "En el paradigma imperativo, el código está relacionado con la arquitectura de la máquina, y son una secuencia de pasos (o instrucciones) que cambian el estado del programa. Existen 3 tipos de paradigmas imperativos, 'procedimental', 'orientado a objetos', y 'procesamiento paralelo'.\n",
    "\n",
    "\n",
    "b) ¿En qué se basa la programación orientada a objetos?\n",
    "\n",
    "Se basa en un programa hecho de clases, con sus métodos y atributos.\n",
    "Una clase describre un grupo de objetos que compartirán propiedades y métodos comúnes. La creación de un programa involucrará ensamblar los objetos, y hacerlos interactuar entre ellos.\n",
    "\n",
    "\n",
    "c) ¿Cuál es la diferencia entre recursividad e iteración, y cómo se relaciona esto con la notación big 𝑂?\n",
    "\n",
    "Iteración es cuando se utiliza un ciclo 'for' o 'while'\n",
    "en el programa, y el mismo procedimiento se repite varias veces. Generalmente tienen notación 𝑂(n^i), donde i depende de la cantidad de ciclos o bucles anidados del programa.\n",
    "\n",
    "Recursividad es cuando una función se llama a si misma directa o indirectamente. La idea es resolver problemas más pequeños a partir de un caso base, para luego usar la respuesta de esos para resolver el problema más grande. Su notación en big 𝑂 puede variar dependiendo del programa y algoritmo utilizado, y es más complejo determinar su notación con respecto a iteración.\n",
    "\n",
    "\n",
    "d) Explicar la diferencia de rendimiento entre 𝑂(1) y 𝑂(𝑛)\n",
    "\n",
    "La diferencia de rendimiento es que 𝑂(1) es de tiempo constante, mientras que 𝑂(n) es de tiempo lineal (depende de la entrada). \n",
    "Un algoritmo 𝑂(1) es uno donde, independientemente de la entrada, se ejecuta 1 sola vez. Un ejemplo de esto puede ser un 'print()'. Un algoritmo 𝑂(n) es uno que se ejecutará n veces. Un ejemplo de esto es un ciclo 'for', ya que el programa se ejecutará n veces.\n",
    "\n",
    "\n",
    "e) ¿Cómo se calcula el orden en un programa que funciona por etapas?\n",
    "\n",
    "Primero se evalúa cada etapa por separado y se calcula su complejidad. Luego, la complejidad del programa será la etapa más lenta, ya que esa domina el tiempo de ejecución.\n",
    "Para el ejemplo visto en clases:\n",
    "\n",
    "n = 8\n",
    "\n",
    "i = 1\n",
    "\n",
    "while (i < n):\n",
    "\n",
    "  print(f\"Hey - I'm busy looking at: {i}\")\n",
    "\n",
    "  i *= 2\n",
    "  \n",
    "\n",
    "Las lineas de código 'n=8' e 'i=1' son 𝑂(1), mientras que el 'While' es 𝑂(log(n)). Como el más lento es el while, domina en el tiempo de ejecución, y por lo tanto el programa es de orden 𝑂(log(n)).\n",
    "\n",
    "\n",
    "f) ¿Cómo se puede determinar la complejidad temporal de un algoritmo recursivo?\n",
    "\n",
    "Establecer la ecuación de recurrencia y luego utilizar el teorema maestro.\n",
    "La ecuación de recurrencia es:\n",
    "$$T(n) = pT(\\frac{n}{q}) + Cn^{r}$$\n",
    "El teorema maestro es: \n",
    "\n",
    "$T(n) = 𝑂(n^{r})$ si $p < q^{r}$\n",
    "\n",
    "$T(n) = 𝑂(n^{r}log(n))$ si $p = q^{r}$\n",
    "\n",
    "$T(n) = 𝑂(n^{log_{q}(p)})$ si $p > q^{r}$\n",
    "\n"
   ]
  },
  {
   "cell_type": "markdown",
   "metadata": {},
   "source": [
    "## Caminos en una PCB"
   ]
  },
  {
   "cell_type": "code",
   "execution_count": 1,
   "metadata": {},
   "outputs": [
    {
     "ename": "ModuleNotFoundError",
     "evalue": "No module named 'numpy'",
     "output_type": "error",
     "traceback": [
      "\u001b[1;31m---------------------------------------------------------------------------\u001b[0m",
      "\u001b[1;31mModuleNotFoundError\u001b[0m                       Traceback (most recent call last)",
      "Cell \u001b[1;32mIn[1], line 1\u001b[0m\n\u001b[1;32m----> 1\u001b[0m \u001b[38;5;28;01mimport\u001b[39;00m \u001b[38;5;21;01mnumpy\u001b[39;00m \u001b[38;5;28;01mas\u001b[39;00m \u001b[38;5;21;01mnp\u001b[39;00m\n\u001b[0;32m      2\u001b[0m \u001b[38;5;28;01mclass\u001b[39;00m \u001b[38;5;21;01mPCB\u001b[39;00m:\n\u001b[0;32m      3\u001b[0m     \u001b[38;5;28;01mdef\u001b[39;00m \u001b[38;5;21m__init__\u001b[39m(\u001b[38;5;28mself\u001b[39m,N,M):\n",
      "\u001b[1;31mModuleNotFoundError\u001b[0m: No module named 'numpy'"
     ]
    }
   ],
   "source": [
    "import numpy as np\n",
    "class PCB:\n",
    "    def __init__(self,N,M):\n",
    "        self.tamaño = np.empty(N,M)\n",
    "        self.A = self.tamaño[0,0]\n",
    "        self.B = self.tamaño[N,M]"
   ]
  }
 ],
 "metadata": {
  "kernelspec": {
   "display_name": "Python 3",
   "language": "python",
   "name": "python3"
  },
  "language_info": {
   "codemirror_mode": {
    "name": "ipython",
    "version": 3
   },
   "file_extension": ".py",
   "mimetype": "text/x-python",
   "name": "python",
   "nbconvert_exporter": "python",
   "pygments_lexer": "ipython3",
   "version": "3.12.2"
  }
 },
 "nbformat": 4,
 "nbformat_minor": 2
}
